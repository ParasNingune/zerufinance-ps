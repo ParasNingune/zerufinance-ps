{
 "cells": [
  {
   "cell_type": "code",
   "execution_count": 2,
   "id": "3ad3ff93-2e2e-43fd-bdc1-2e6c31de2ab8",
   "metadata": {},
   "outputs": [],
   "source": [
    "import json\n",
    "import pandas as pd\n",
    "import numpy as np\n",
    "import matplotlib.pyplot as plt\n",
    "from datetime import datetime\n",
    "from sklearn.preprocessing import StandardScaler\n",
    "import seaborn as sns\n",
    "from sklearn.ensemble import GradientBoostingRegressor\n",
    "from sklearn.model_selection import train_test_split"
   ]
  },
  {
   "cell_type": "markdown",
   "id": "903abad8-db5c-4a8d-b4c2-e215d3ce3dfe",
   "metadata": {},
   "source": [
    "## Load data"
   ]
  },
  {
   "cell_type": "code",
   "execution_count": 3,
   "id": "eaaf44fc-1724-4d14-994a-270c91afc015",
   "metadata": {},
   "outputs": [],
   "source": [
    "def load_data(file_path):\n",
    "    with open(file_path, 'r') as f:\n",
    "        data = json.load(f)\n",
    "        \n",
    "    df = pd.DataFrame(data)\n",
    "    df['amount'] = df['actionData'].apply(lambda x: float(x.get('amount', 0)))\n",
    "    df['assetPriceUSD'] = df['actionData'].apply(lambda x: float(x.get('assetPriceUSD', 0)))\n",
    "    df['amount_usd'] = df['amount'] * df['assetPriceUSD']\n",
    "    \n",
    "    return df"
   ]
  },
  {
   "cell_type": "code",
   "execution_count": 4,
   "id": "9dc8b4fa-23fa-4e5c-8649-16c6c23fa2bf",
   "metadata": {},
   "outputs": [],
   "source": [
    "def feature_extraction(df):\n",
    "    features = df.groupby('userWallet').agg({\n",
    "        'txHash': 'count',\n",
    "        'amount_usd': [\n",
    "            ('total_deposit', lambda x: x[df['action'] == 'deposit'].sum()),\n",
    "            ('total_borrow', lambda x: x[df['action'] == 'borrow'].sum())\n",
    "        ],\n",
    "        'action': [('liquidation_count', lambda x: (x == 'liquidationcall').sum())]\n",
    "    }).reset_index()\n",
    "\n",
    "    features.columns = ['userWallet', 'tx_frequency', 'total_deposit', 'total_borrow', 'liquidation_count']\n",
    "\n",
    "    repay = df[df['action'] == 'repay'].groupby('userWallet')['amount_usd'].sum()\n",
    "    features['repayment_ratio'] = repay / features['total_borrow']\n",
    "    features['repayment_ratio'] = features['repayment_ratio'].fillna(0).clip(0, 1)\n",
    "\n",
    "    features.fillna(0, inplace=True)\n",
    "\n",
    "    \n",
    "    return features"
   ]
  },
  {
   "cell_type": "code",
   "execution_count": 5,
   "id": "0324d44e-5a64-40da-a806-91c8fad9238c",
   "metadata": {},
   "outputs": [],
   "source": [
    "def calculate_scores(features):\n",
    "\n",
    "    deposit = features['total_deposit']\n",
    "    borrow = features['total_borrow']\n",
    "    repayment = features['repayment_ratio']\n",
    "    liquidation = features['liquidation_count']\n",
    "    tx_freq = features['tx_frequency']\n",
    "\n",
    "    # Heuristic \"pseudo\" labels based on your manual formula for bootstrapping\n",
    "    pseudo_scores = (\n",
    "        100 + \n",
    "        300 * np.log1p(deposit) -                      # more realistic scaling\n",
    "        200 * np.log1p(liquidation) +                 # non-linear penalty\n",
    "        300 * repayment +                             # maintain strong signal\n",
    "        150 * np.log1p(tx_freq) +                     # scale down frequency effect\n",
    "        200 * np.tanh(borrow * repayment / (deposit + 1))  # responsible borrowing\n",
    "    )\n",
    "    \n",
    "    pseudo_scores = np.clip(pseudo_scores, 0, 1000)\n",
    "    features['pseudo_score'] = pseudo_scores\n",
    "\n",
    "    feature_cols = ['tx_frequency', 'total_deposit', 'total_borrow', 'liquidation_count', 'repayment_ratio']\n",
    "    X = features[feature_cols]\n",
    "    y = features['pseudo_score']\n",
    "\n",
    "    X_train, X_test, y_train, y_test = train_test_split(X, y, test_size=0.2, random_state=42)\n",
    "\n",
    "    model = GradientBoostingRegressor(n_estimators=100, learning_rate=0.1, random_state=42)\n",
    "    model.fit(X_train, y_train)\n",
    "\n",
    "    features['credit_score'] = np.clip(model.predict(X), 0, 1000)\n",
    "\n",
    "    return features[['userWallet', 'credit_score']]"
   ]
  },
  {
   "cell_type": "code",
   "execution_count": 6,
   "id": "96913e31-d515-4a8e-abfb-d3ae7f65df3e",
   "metadata": {},
   "outputs": [],
   "source": [
    "def plot_distribution(scores, output_path):\n",
    "    plt.figure(figsize=(14, 8), dpi=120)\n",
    "    sns.set_style(\"whitegrid\")\n",
    "    \n",
    "    bins = np.arange(0, 1100, 100)\n",
    "    hist = sns.histplot(scores['credit_score'], bins=bins, kde=True, color='skyblue', edgecolor='black')\n",
    "    \n",
    "    mean_score = scores['credit_score'].mean()\n",
    "    median_score = scores['credit_score'].median()\n",
    "    \n",
    "    plt.axvline(mean_score, color='red', linestyle='--', label=f'Mean: {mean_score:.1f}')\n",
    "    plt.axvline(median_score, color='green', linestyle=':', label=f'Median: {median_score:.1f}')\n",
    "    \n",
    "    for bar in hist.patches:\n",
    "        height = bar.get_height()\n",
    "        if height > 0:\n",
    "            plt.text(\n",
    "                bar.get_x() + bar.get_width() / 2,\n",
    "                height + 1,\n",
    "                f'{int(height)}',\n",
    "                ha='center',\n",
    "                va='bottom',\n",
    "                fontsize=9,\n",
    "                color='black'\n",
    "            )\n",
    "    \n",
    "    plt.xticks(bins)\n",
    "    plt.title('Wallet Credit Score Distribution', fontsize=16)\n",
    "    plt.xlabel('Credit Score', fontsize=13)\n",
    "    plt.ylabel('Number of Wallets', fontsize=13)\n",
    "    plt.legend()\n",
    "\n",
    "    plt.tight_layout()\n",
    "    plt.savefig(output_path)\n",
    "    plt.close()"
   ]
  },
  {
   "cell_type": "code",
   "execution_count": 7,
   "id": "7ed81260-e237-4b29-a360-93637c7687f9",
   "metadata": {},
   "outputs": [],
   "source": [
    "def main(file_path, output_path, plot_path):\n",
    "    df = load_data(file_path)\n",
    "    features = feature_extraction(df)\n",
    "    scores = calculate_scores(features)\n",
    "    scores.to_csv(output_path, index=False)\n",
    "    plot_distribution(scores, plot_path)\n",
    "    print(f\"Credit scores saved to {output_path}\")\n",
    "    print(f\"Score distribution plot saved to {plot_path}\")"
   ]
  },
  {
   "cell_type": "code",
   "execution_count": 8,
   "id": "f3738a6d-72e0-4fc8-9bd7-66495ff622a4",
   "metadata": {},
   "outputs": [
    {
     "name": "stdout",
     "output_type": "stream",
     "text": [
      "Credit scores saved to wallet_credit_scores.csv\n",
      "Score distribution plot saved to score_distribution.png\n"
     ]
    }
   ],
   "source": [
    "if __name__ == \"__main__\":\n",
    "    main(\"./data/user-wallet-transactions.json\", \"wallet_credit_scores.csv\", \"score_distribution.png\")"
   ]
  }
 ],
 "metadata": {
  "kernelspec": {
   "display_name": "Python 3",
   "language": "python",
   "name": "python3"
  },
  "language_info": {
   "codemirror_mode": {
    "name": "ipython",
    "version": 3
   },
   "file_extension": ".py",
   "mimetype": "text/x-python",
   "name": "python",
   "nbconvert_exporter": "python",
   "pygments_lexer": "ipython3",
   "version": "3.12.3"
  }
 },
 "nbformat": 4,
 "nbformat_minor": 5
}
