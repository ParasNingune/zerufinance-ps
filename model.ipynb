{
 "cells": [
  {
   "cell_type": "code",
   "execution_count": 38,
   "id": "3ad3ff93-2e2e-43fd-bdc1-2e6c31de2ab8",
   "metadata": {},
   "outputs": [],
   "source": [
    "import json\n",
    "import pandas as pd\n",
    "import numpy as np\n",
    "import matplotlib.pyplot as plt\n",
    "from datetime import datetime\n",
    "from sklearn.preprocessing import StandardScaler\n",
    "import seaborn as sns"
   ]
  },
  {
   "cell_type": "markdown",
   "id": "903abad8-db5c-4a8d-b4c2-e215d3ce3dfe",
   "metadata": {},
   "source": [
    "## Load data"
   ]
  },
  {
   "cell_type": "code",
   "execution_count": 23,
   "id": "eaaf44fc-1724-4d14-994a-270c91afc015",
   "metadata": {},
   "outputs": [],
   "source": [
    "def load_data(file_path):\n",
    "    with open(file_path, 'r') as f:\n",
    "        data = json.load(f)\n",
    "        \n",
    "    df = pd.DataFrame(data)\n",
    "    df['amount'] = df['actionData'].apply(lambda x: float(x.get('amount', 0)))\n",
    "    df['assetPriceUSD'] = df['actionData'].apply(lambda x: float(x.get('assetPriceUSD', 0)))\n",
    "    df['amount_usd'] = df['amount'] * df['assetPriceUSD']\n",
    "    \n",
    "    return df"
   ]
  },
  {
   "cell_type": "code",
   "execution_count": 24,
   "id": "9dc8b4fa-23fa-4e5c-8649-16c6c23fa2bf",
   "metadata": {},
   "outputs": [],
   "source": [
    "def feature_extraction(df):\n",
    "    features = df.groupby('userWallet').agg({\n",
    "        'txHash': 'count',\n",
    "        'amount_usd': [\n",
    "            ('total_deposit', lambda x: x[df['action'] == 'deposit'].sum()),\n",
    "            ('total_borrow', lambda x: x[df['action'] == 'borrow'].sum())\n",
    "        ],\n",
    "        'action': [('liquidation_count', lambda x: (x == 'liquidationcall').sum())]\n",
    "    }).reset_index()\n",
    "\n",
    "    features.columns = ['userWallet', 'tx_frequency', 'total_deposit', 'total_borrow', 'liquidation_count']\n",
    "\n",
    "    repay = df[df['action'] == 'repay'].groupby('userWallet')['amount_usd'].sum()\n",
    "    features['repayment_ratio'] = repay / features['total_borrow']\n",
    "    features['repayment_ratio'] = features['repayment_ratio'].fillna(0).clip(0, 1)\n",
    "\n",
    "    features.fillna(0, inplace=True)\n",
    "\n",
    "    \n",
    "    return features"
   ]
  },
  {
   "cell_type": "code",
   "execution_count": 25,
   "id": "0324d44e-5a64-40da-a806-91c8fad9238c",
   "metadata": {},
   "outputs": [],
   "source": [
    "def calculate_scores(wallet_features):\n",
    "    \n",
    "    feature_cols = ['tx_frequency', 'total_deposit', 'total_borrow', 'liquidation_count', 'repayment_ratio']\n",
    "    \n",
    "    scaler = StandardScaler()\n",
    "    X = scaler.fit_transform(features[feature_cols])\n",
    "    \n",
    "    scores = (\n",
    "        200 + \n",
    "        300 * X[:, 1] / (X[:, 2] + 1) +  # Deposit-to-borrow ratio\n",
    "        400 * X[:, 4] -                  # Repayment ratio\n",
    "        100 * X[:, 3] +                  # Liquidation count\n",
    "        50 * X[:, 0]                     # Transaction frequency\n",
    "    )\n",
    "    \n",
    "    features['credit_score'] = np.clip(scores, 0, 1000)\n",
    "\n",
    "    return features[['userWallet', 'credit_score']]"
   ]
  },
  {
   "cell_type": "code",
   "execution_count": 28,
   "id": "718e3c3b-6309-4881-9db0-8be4b00b04e7",
   "metadata": {},
   "outputs": [],
   "source": [
    "df = load_data(\"./data/user-wallet-transactions.json\")\n",
    "features = feature_extraction(df)"
   ]
  },
  {
   "cell_type": "code",
   "execution_count": 31,
   "id": "72077dd7-f33c-4bdf-9e0c-69a81836cc00",
   "metadata": {},
   "outputs": [],
   "source": [
    "scores = calculate_scores(features)\n",
    "scores.to_csv(\"./credit_scores.csv\", index=False)"
   ]
  },
  {
   "cell_type": "code",
   "execution_count": 39,
   "id": "96913e31-d515-4a8e-abfb-d3ae7f65df3e",
   "metadata": {},
   "outputs": [],
   "source": [
    "def plot_score_distribution(scores, output_path):\n",
    "    plt.figure(figsize=(10, 6))\n",
    "    bins = range(0, 1100, 100)\n",
    "    sns.histplot(scores['credit_score'], bins=bins, kde=True)\n",
    "    plt.title('Credit Score Distribution')\n",
    "    plt.xlabel('Credit Score')\n",
    "    plt.ylabel('Number of Wallets')\n",
    "    plt.xticks(bins)\n",
    "    plt.savefig(output_path)\n",
    "    plt.close()"
   ]
  },
  {
   "cell_type": "code",
   "execution_count": 40,
   "id": "7ed81260-e237-4b29-a360-93637c7687f9",
   "metadata": {},
   "outputs": [
    {
     "name": "stdout",
     "output_type": "stream",
     "text": [
      "Credit scores saved to credit_scores.csv\n",
      "Score distribution plot saved to score_distribution.png\n"
     ]
    }
   ],
   "source": [
    "plot_score_distribution(scores, \"./score_distribution.png\")\n",
    "print(f\"Credit scores saved to credit_scores.csv\")\n",
    "print(f\"Score distribution plot saved to score_distribution.png\")"
   ]
  },
  {
   "cell_type": "code",
   "execution_count": null,
   "id": "f3738a6d-72e0-4fc8-9bd7-66495ff622a4",
   "metadata": {},
   "outputs": [],
   "source": []
  }
 ],
 "metadata": {
  "kernelspec": {
   "display_name": "Python 3 (ipykernel)",
   "language": "python",
   "name": "python3"
  },
  "language_info": {
   "codemirror_mode": {
    "name": "ipython",
    "version": 3
   },
   "file_extension": ".py",
   "mimetype": "text/x-python",
   "name": "python",
   "nbconvert_exporter": "python",
   "pygments_lexer": "ipython3",
   "version": "3.12.3"
  }
 },
 "nbformat": 4,
 "nbformat_minor": 5
}
